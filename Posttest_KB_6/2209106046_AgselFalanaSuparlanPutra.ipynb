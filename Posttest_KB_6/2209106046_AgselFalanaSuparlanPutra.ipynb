{
 "cells": [
  {
   "cell_type": "code",
   "execution_count": 10,
   "metadata": {},
   "outputs": [],
   "source": [
    "import pandas as pd\n",
    "import tensorflow as tf\n",
    "from tensorflow.keras import Sequential, layers\n",
    "import numpy as np\n",
    "from sklearn.model_selection import train_test_split\n",
    "from sklearn.metrics import accuracy_score, r2_score\n",
    "import matplotlib.pyplot as plt\n",
    "from sklearn.preprocessing import StandardScaler\n",
    "from sklearn.metrics import r2_score\n",
    "from sklearn.linear_model import LinearRegression\n",
    "from sklearn.preprocessing import OneHotEncoder\n"
   ]
  },
  {
   "cell_type": "markdown",
   "metadata": {},
   "source": [
    "### import library"
   ]
  },
  {
   "cell_type": "code",
   "execution_count": 11,
   "metadata": {},
   "outputs": [],
   "source": [
    "agsel = pd.read_csv(\"car_resale_prices.csv\")"
   ]
  },
  {
   "cell_type": "markdown",
   "metadata": {},
   "source": [
    "baca data csv"
   ]
  },
  {
   "cell_type": "code",
   "execution_count": 12,
   "metadata": {},
   "outputs": [
    {
     "name": "stdout",
     "output_type": "stream",
     "text": [
      "<class 'pandas.core.frame.DataFrame'>\n",
      "RangeIndex: 17446 entries, 0 to 17445\n",
      "Data columns (total 15 columns):\n",
      " #   Column             Non-Null Count  Dtype  \n",
      "---  ------             --------------  -----  \n",
      " 0   Unnamed: 0         17446 non-null  int64  \n",
      " 1   full_name          17446 non-null  object \n",
      " 2   resale_price       17446 non-null  object \n",
      " 3   registered_year    17377 non-null  object \n",
      " 4   engine_capacity    17432 non-null  object \n",
      " 5   insurance          17439 non-null  object \n",
      " 6   transmission_type  17446 non-null  object \n",
      " 7   kms_driven         17443 non-null  object \n",
      " 8   owner_type         17401 non-null  object \n",
      " 9   fuel_type          17446 non-null  object \n",
      " 10  max_power          17344 non-null  object \n",
      " 11  seats              17436 non-null  float64\n",
      " 12  mileage            16938 non-null  object \n",
      " 13  body_type          17446 non-null  object \n",
      " 14  city               17446 non-null  object \n",
      "dtypes: float64(1), int64(1), object(13)\n",
      "memory usage: 2.0+ MB\n"
     ]
    }
   ],
   "source": [
    "agsel.info()"
   ]
  },
  {
   "cell_type": "markdown",
   "metadata": {},
   "source": [
    "menampilkan info dari dataset"
   ]
  },
  {
   "cell_type": "code",
   "execution_count": 13,
   "metadata": {},
   "outputs": [
    {
     "name": "stderr",
     "output_type": "stream",
     "text": [
      "c:\\Users\\AGSEL FALANA\\AppData\\Local\\Programs\\Python\\Python310\\lib\\site-packages\\sklearn\\preprocessing\\_encoders.py:975: FutureWarning: `sparse` was renamed to `sparse_output` in version 1.2 and will be removed in 1.4. `sparse_output` is ignored unless you leave `sparse` to its default value.\n",
      "  warnings.warn(\n"
     ]
    }
   ],
   "source": [
    "hot_agsel = OneHotEncoder(sparse=False)\n",
    "encoded_agsel = hot_agsel.fit_transform(agsel[['transmission_type']])"
   ]
  },
  {
   "cell_type": "markdown",
   "metadata": {},
   "source": [
    "onehot encode pertama untuk mengubah tipe data"
   ]
  },
  {
   "cell_type": "code",
   "execution_count": 14,
   "metadata": {},
   "outputs": [
    {
     "data": {
      "text/html": [
       "<div>\n",
       "<style scoped>\n",
       "    .dataframe tbody tr th:only-of-type {\n",
       "        vertical-align: middle;\n",
       "    }\n",
       "\n",
       "    .dataframe tbody tr th {\n",
       "        vertical-align: top;\n",
       "    }\n",
       "\n",
       "    .dataframe thead th {\n",
       "        text-align: right;\n",
       "    }\n",
       "</style>\n",
       "<table border=\"1\" class=\"dataframe\">\n",
       "  <thead>\n",
       "    <tr style=\"text-align: right;\">\n",
       "      <th></th>\n",
       "      <th>Unnamed: 0</th>\n",
       "      <th>full_name</th>\n",
       "      <th>resale_price</th>\n",
       "      <th>registered_year</th>\n",
       "      <th>engine_capacity</th>\n",
       "      <th>insurance</th>\n",
       "      <th>transmission_type</th>\n",
       "      <th>kms_driven</th>\n",
       "      <th>owner_type</th>\n",
       "      <th>fuel_type</th>\n",
       "      <th>max_power</th>\n",
       "      <th>seats</th>\n",
       "      <th>mileage</th>\n",
       "      <th>body_type</th>\n",
       "      <th>city</th>\n",
       "      <th>Manual</th>\n",
       "      <th>Automatic</th>\n",
       "    </tr>\n",
       "  </thead>\n",
       "  <tbody>\n",
       "    <tr>\n",
       "      <th>0</th>\n",
       "      <td>0</td>\n",
       "      <td>2017 Maruti Baleno 1.2 Alpha</td>\n",
       "      <td>₹ 5.45 Lakh</td>\n",
       "      <td>2017</td>\n",
       "      <td>1197 cc</td>\n",
       "      <td>Third Party insurance</td>\n",
       "      <td>Manual</td>\n",
       "      <td>40,000 Kms</td>\n",
       "      <td>First Owner</td>\n",
       "      <td>Petrol</td>\n",
       "      <td>83.1bhp</td>\n",
       "      <td>5.0</td>\n",
       "      <td>21.4 kmpl</td>\n",
       "      <td>Hatchback</td>\n",
       "      <td>Agra</td>\n",
       "      <td>0.0</td>\n",
       "      <td>1.0</td>\n",
       "    </tr>\n",
       "    <tr>\n",
       "      <th>1</th>\n",
       "      <td>1</td>\n",
       "      <td>2018 Tata Hexa XTA</td>\n",
       "      <td>₹ 10 Lakh</td>\n",
       "      <td>2018</td>\n",
       "      <td>2179 cc</td>\n",
       "      <td>Third Party insurance</td>\n",
       "      <td>Automatic</td>\n",
       "      <td>70,000 Kms</td>\n",
       "      <td>First Owner</td>\n",
       "      <td>Diesel</td>\n",
       "      <td>153.86bhp</td>\n",
       "      <td>7.0</td>\n",
       "      <td>17.6 kmpl</td>\n",
       "      <td>MUV</td>\n",
       "      <td>Agra</td>\n",
       "      <td>1.0</td>\n",
       "      <td>0.0</td>\n",
       "    </tr>\n",
       "    <tr>\n",
       "      <th>2</th>\n",
       "      <td>2</td>\n",
       "      <td>2015 Maruti Swift Dzire VXI</td>\n",
       "      <td>₹ 4.50 Lakh</td>\n",
       "      <td>2015</td>\n",
       "      <td>1197 cc</td>\n",
       "      <td>Third Party insurance</td>\n",
       "      <td>Manual</td>\n",
       "      <td>70,000 Kms</td>\n",
       "      <td>Second Owner</td>\n",
       "      <td>Petrol</td>\n",
       "      <td>83.14bhp</td>\n",
       "      <td>5.0</td>\n",
       "      <td>20.85 kmpl</td>\n",
       "      <td>Sedan</td>\n",
       "      <td>Agra</td>\n",
       "      <td>0.0</td>\n",
       "      <td>1.0</td>\n",
       "    </tr>\n",
       "    <tr>\n",
       "      <th>3</th>\n",
       "      <td>3</td>\n",
       "      <td>2015 Maruti Swift Dzire VXI</td>\n",
       "      <td>₹ 4.50 Lakh</td>\n",
       "      <td>2015</td>\n",
       "      <td>1197 cc</td>\n",
       "      <td>Third Party insurance</td>\n",
       "      <td>Manual</td>\n",
       "      <td>70,000 Kms</td>\n",
       "      <td>Second Owner</td>\n",
       "      <td>Petrol</td>\n",
       "      <td>83.14bhp</td>\n",
       "      <td>5.0</td>\n",
       "      <td>20.85 kmpl</td>\n",
       "      <td>Sedan</td>\n",
       "      <td>Agra</td>\n",
       "      <td>0.0</td>\n",
       "      <td>1.0</td>\n",
       "    </tr>\n",
       "    <tr>\n",
       "      <th>4</th>\n",
       "      <td>4</td>\n",
       "      <td>2009 Hyundai i10 Magna 1.1</td>\n",
       "      <td>₹ 1.60 Lakh</td>\n",
       "      <td>2009</td>\n",
       "      <td>1086 cc</td>\n",
       "      <td>Third Party insurance</td>\n",
       "      <td>Manual</td>\n",
       "      <td>80,000 Kms</td>\n",
       "      <td>First Owner</td>\n",
       "      <td>Petrol</td>\n",
       "      <td>68.05bhp</td>\n",
       "      <td>5.0</td>\n",
       "      <td>19.81 kmpl</td>\n",
       "      <td>Hatchback</td>\n",
       "      <td>Agra</td>\n",
       "      <td>0.0</td>\n",
       "      <td>1.0</td>\n",
       "    </tr>\n",
       "  </tbody>\n",
       "</table>\n",
       "</div>"
      ],
      "text/plain": [
       "   Unnamed: 0                     full_name resale_price registered_year  \\\n",
       "0           0  2017 Maruti Baleno 1.2 Alpha  ₹ 5.45 Lakh            2017   \n",
       "1           1            2018 Tata Hexa XTA    ₹ 10 Lakh            2018   \n",
       "2           2   2015 Maruti Swift Dzire VXI  ₹ 4.50 Lakh            2015   \n",
       "3           3   2015 Maruti Swift Dzire VXI  ₹ 4.50 Lakh            2015   \n",
       "4           4    2009 Hyundai i10 Magna 1.1  ₹ 1.60 Lakh            2009   \n",
       "\n",
       "  engine_capacity              insurance transmission_type  kms_driven  \\\n",
       "0         1197 cc  Third Party insurance            Manual  40,000 Kms   \n",
       "1         2179 cc  Third Party insurance         Automatic  70,000 Kms   \n",
       "2         1197 cc  Third Party insurance            Manual  70,000 Kms   \n",
       "3         1197 cc  Third Party insurance            Manual  70,000 Kms   \n",
       "4         1086 cc  Third Party insurance            Manual  80,000 Kms   \n",
       "\n",
       "     owner_type fuel_type  max_power  seats     mileage  body_type  city  \\\n",
       "0   First Owner    Petrol    83.1bhp    5.0   21.4 kmpl  Hatchback  Agra   \n",
       "1   First Owner    Diesel  153.86bhp    7.0   17.6 kmpl        MUV  Agra   \n",
       "2  Second Owner    Petrol   83.14bhp    5.0  20.85 kmpl      Sedan  Agra   \n",
       "3  Second Owner    Petrol   83.14bhp    5.0  20.85 kmpl      Sedan  Agra   \n",
       "4   First Owner    Petrol   68.05bhp    5.0  19.81 kmpl  Hatchback  Agra   \n",
       "\n",
       "   Manual  Automatic  \n",
       "0     0.0        1.0  \n",
       "1     1.0        0.0  \n",
       "2     0.0        1.0  \n",
       "3     0.0        1.0  \n",
       "4     0.0        1.0  "
      ]
     },
     "execution_count": 14,
     "metadata": {},
     "output_type": "execute_result"
    }
   ],
   "source": [
    "encoded_agsel = pd.DataFrame(encoded_agsel)\n",
    "agsel['Manual'] = encoded_agsel [0]\n",
    "agsel['Automatic'] = encoded_agsel [1]\n",
    "\n",
    "agsel.head()"
   ]
  },
  {
   "cell_type": "markdown",
   "metadata": {},
   "source": [
    "onehot encode kedua untuk encode dua kolom automatic dan manual"
   ]
  },
  {
   "cell_type": "code",
   "execution_count": 15,
   "metadata": {},
   "outputs": [
    {
     "name": "stdout",
     "output_type": "stream",
     "text": [
      "<class 'pandas.core.frame.DataFrame'>\n",
      "RangeIndex: 17446 entries, 0 to 17445\n",
      "Data columns (total 17 columns):\n",
      " #   Column             Non-Null Count  Dtype  \n",
      "---  ------             --------------  -----  \n",
      " 0   Unnamed: 0         17446 non-null  int64  \n",
      " 1   full_name          17446 non-null  object \n",
      " 2   resale_price       17446 non-null  object \n",
      " 3   registered_year    17377 non-null  object \n",
      " 4   engine_capacity    17432 non-null  object \n",
      " 5   insurance          17439 non-null  object \n",
      " 6   transmission_type  17446 non-null  object \n",
      " 7   kms_driven         17443 non-null  object \n",
      " 8   owner_type         17401 non-null  object \n",
      " 9   fuel_type          17446 non-null  object \n",
      " 10  max_power          17344 non-null  object \n",
      " 11  seats              17436 non-null  float64\n",
      " 12  mileage            16938 non-null  object \n",
      " 13  body_type          17446 non-null  object \n",
      " 14  city               17446 non-null  object \n",
      " 15  Manual             17446 non-null  float64\n",
      " 16  Automatic          17446 non-null  float64\n",
      "dtypes: float64(3), int64(1), object(13)\n",
      "memory usage: 2.3+ MB\n"
     ]
    }
   ],
   "source": [
    "agsel.info()"
   ]
  },
  {
   "cell_type": "markdown",
   "metadata": {},
   "source": [
    "menampilkan data yang sudah di encode"
   ]
  },
  {
   "cell_type": "code",
   "execution_count": 16,
   "metadata": {},
   "outputs": [],
   "source": [
    "agsel.drop(columns=['full_name','resale_price', 'registered_year', 'engine_capacity', 'insurance', 'transmission_type', 'kms_driven', 'owner_type', 'fuel_type', 'max_power',  'mileage', 'body_type', 'city' ], inplace=True)"
   ]
  },
  {
   "cell_type": "markdown",
   "metadata": {},
   "source": [
    "menghapus kolom yang bertipe object"
   ]
  },
  {
   "cell_type": "code",
   "execution_count": 17,
   "metadata": {},
   "outputs": [
    {
     "data": {
      "text/html": [
       "<div>\n",
       "<style scoped>\n",
       "    .dataframe tbody tr th:only-of-type {\n",
       "        vertical-align: middle;\n",
       "    }\n",
       "\n",
       "    .dataframe tbody tr th {\n",
       "        vertical-align: top;\n",
       "    }\n",
       "\n",
       "    .dataframe thead th {\n",
       "        text-align: right;\n",
       "    }\n",
       "</style>\n",
       "<table border=\"1\" class=\"dataframe\">\n",
       "  <thead>\n",
       "    <tr style=\"text-align: right;\">\n",
       "      <th></th>\n",
       "      <th>Unnamed: 0</th>\n",
       "      <th>seats</th>\n",
       "      <th>Manual</th>\n",
       "      <th>Automatic</th>\n",
       "    </tr>\n",
       "  </thead>\n",
       "  <tbody>\n",
       "    <tr>\n",
       "      <th>0</th>\n",
       "      <td>0</td>\n",
       "      <td>5.0</td>\n",
       "      <td>0.0</td>\n",
       "      <td>1.0</td>\n",
       "    </tr>\n",
       "    <tr>\n",
       "      <th>1</th>\n",
       "      <td>1</td>\n",
       "      <td>7.0</td>\n",
       "      <td>1.0</td>\n",
       "      <td>0.0</td>\n",
       "    </tr>\n",
       "    <tr>\n",
       "      <th>2</th>\n",
       "      <td>2</td>\n",
       "      <td>5.0</td>\n",
       "      <td>0.0</td>\n",
       "      <td>1.0</td>\n",
       "    </tr>\n",
       "    <tr>\n",
       "      <th>3</th>\n",
       "      <td>3</td>\n",
       "      <td>5.0</td>\n",
       "      <td>0.0</td>\n",
       "      <td>1.0</td>\n",
       "    </tr>\n",
       "    <tr>\n",
       "      <th>4</th>\n",
       "      <td>4</td>\n",
       "      <td>5.0</td>\n",
       "      <td>0.0</td>\n",
       "      <td>1.0</td>\n",
       "    </tr>\n",
       "  </tbody>\n",
       "</table>\n",
       "</div>"
      ],
      "text/plain": [
       "   Unnamed: 0  seats  Manual  Automatic\n",
       "0           0    5.0     0.0        1.0\n",
       "1           1    7.0     1.0        0.0\n",
       "2           2    5.0     0.0        1.0\n",
       "3           3    5.0     0.0        1.0\n",
       "4           4    5.0     0.0        1.0"
      ]
     },
     "execution_count": 17,
     "metadata": {},
     "output_type": "execute_result"
    }
   ],
   "source": [
    "agsel.head()"
   ]
  },
  {
   "cell_type": "markdown",
   "metadata": {},
   "source": [
    "menampilkan data setelah data object dihapus"
   ]
  },
  {
   "cell_type": "code",
   "execution_count": 18,
   "metadata": {},
   "outputs": [
    {
     "data": {
      "text/html": [
       "<div>\n",
       "<style scoped>\n",
       "    .dataframe tbody tr th:only-of-type {\n",
       "        vertical-align: middle;\n",
       "    }\n",
       "\n",
       "    .dataframe tbody tr th {\n",
       "        vertical-align: top;\n",
       "    }\n",
       "\n",
       "    .dataframe thead th {\n",
       "        text-align: right;\n",
       "    }\n",
       "</style>\n",
       "<table border=\"1\" class=\"dataframe\">\n",
       "  <thead>\n",
       "    <tr style=\"text-align: right;\">\n",
       "      <th></th>\n",
       "      <th>seats_2.0</th>\n",
       "      <th>seats_4.0</th>\n",
       "      <th>seats_5.0</th>\n",
       "      <th>seats_6.0</th>\n",
       "      <th>seats_7.0</th>\n",
       "      <th>seats_8.0</th>\n",
       "      <th>seats_9.0</th>\n",
       "      <th>seats_10.0</th>\n",
       "      <th>seats_14.0</th>\n",
       "      <th>seats_nan</th>\n",
       "    </tr>\n",
       "  </thead>\n",
       "  <tbody>\n",
       "    <tr>\n",
       "      <th>0</th>\n",
       "      <td>0.0</td>\n",
       "      <td>0.0</td>\n",
       "      <td>1.0</td>\n",
       "      <td>0.0</td>\n",
       "      <td>0.0</td>\n",
       "      <td>0.0</td>\n",
       "      <td>0.0</td>\n",
       "      <td>0.0</td>\n",
       "      <td>0.0</td>\n",
       "      <td>0.0</td>\n",
       "    </tr>\n",
       "    <tr>\n",
       "      <th>1</th>\n",
       "      <td>0.0</td>\n",
       "      <td>0.0</td>\n",
       "      <td>0.0</td>\n",
       "      <td>0.0</td>\n",
       "      <td>1.0</td>\n",
       "      <td>0.0</td>\n",
       "      <td>0.0</td>\n",
       "      <td>0.0</td>\n",
       "      <td>0.0</td>\n",
       "      <td>0.0</td>\n",
       "    </tr>\n",
       "    <tr>\n",
       "      <th>2</th>\n",
       "      <td>0.0</td>\n",
       "      <td>0.0</td>\n",
       "      <td>1.0</td>\n",
       "      <td>0.0</td>\n",
       "      <td>0.0</td>\n",
       "      <td>0.0</td>\n",
       "      <td>0.0</td>\n",
       "      <td>0.0</td>\n",
       "      <td>0.0</td>\n",
       "      <td>0.0</td>\n",
       "    </tr>\n",
       "    <tr>\n",
       "      <th>3</th>\n",
       "      <td>0.0</td>\n",
       "      <td>0.0</td>\n",
       "      <td>1.0</td>\n",
       "      <td>0.0</td>\n",
       "      <td>0.0</td>\n",
       "      <td>0.0</td>\n",
       "      <td>0.0</td>\n",
       "      <td>0.0</td>\n",
       "      <td>0.0</td>\n",
       "      <td>0.0</td>\n",
       "    </tr>\n",
       "    <tr>\n",
       "      <th>4</th>\n",
       "      <td>0.0</td>\n",
       "      <td>0.0</td>\n",
       "      <td>1.0</td>\n",
       "      <td>0.0</td>\n",
       "      <td>0.0</td>\n",
       "      <td>0.0</td>\n",
       "      <td>0.0</td>\n",
       "      <td>0.0</td>\n",
       "      <td>0.0</td>\n",
       "      <td>0.0</td>\n",
       "    </tr>\n",
       "  </tbody>\n",
       "</table>\n",
       "</div>"
      ],
      "text/plain": [
       "   seats_2.0  seats_4.0  seats_5.0  seats_6.0  seats_7.0  seats_8.0  \\\n",
       "0        0.0        0.0        1.0        0.0        0.0        0.0   \n",
       "1        0.0        0.0        0.0        0.0        1.0        0.0   \n",
       "2        0.0        0.0        1.0        0.0        0.0        0.0   \n",
       "3        0.0        0.0        1.0        0.0        0.0        0.0   \n",
       "4        0.0        0.0        1.0        0.0        0.0        0.0   \n",
       "\n",
       "   seats_9.0  seats_10.0  seats_14.0  seats_nan  \n",
       "0        0.0         0.0         0.0        0.0  \n",
       "1        0.0         0.0         0.0        0.0  \n",
       "2        0.0         0.0         0.0        0.0  \n",
       "3        0.0         0.0         0.0        0.0  \n",
       "4        0.0         0.0         0.0        0.0  "
      ]
     },
     "execution_count": 18,
     "metadata": {},
     "output_type": "execute_result"
    }
   ],
   "source": [
    "from sklearn.preprocessing import OneHotEncoder\n",
    "encoder = OneHotEncoder(sparse_output=False)\n",
    "\n",
    "categorical_cols = [\"seats\"]\n",
    "agsel_categorical = encoder.fit_transform(agsel[categorical_cols])\n",
    "categorical_names = encoder.get_feature_names_out(categorical_cols)\n",
    "agsel_categorical = pd.DataFrame(agsel_categorical, columns=categorical_names)\n",
    "\n",
    "agsel_categorical.head()"
   ]
  },
  {
   "cell_type": "markdown",
   "metadata": {},
   "source": [
    "encode kolom seats "
   ]
  },
  {
   "cell_type": "code",
   "execution_count": 19,
   "metadata": {},
   "outputs": [
    {
     "data": {
      "text/html": [
       "<div>\n",
       "<style scoped>\n",
       "    .dataframe tbody tr th:only-of-type {\n",
       "        vertical-align: middle;\n",
       "    }\n",
       "\n",
       "    .dataframe tbody tr th {\n",
       "        vertical-align: top;\n",
       "    }\n",
       "\n",
       "    .dataframe thead th {\n",
       "        text-align: right;\n",
       "    }\n",
       "</style>\n",
       "<table border=\"1\" class=\"dataframe\">\n",
       "  <thead>\n",
       "    <tr style=\"text-align: right;\">\n",
       "      <th></th>\n",
       "      <th>Unnamed: 0</th>\n",
       "      <th>seats</th>\n",
       "      <th>Manual</th>\n",
       "      <th>Automatic</th>\n",
       "      <th>seats_2.0</th>\n",
       "      <th>seats_4.0</th>\n",
       "      <th>seats_5.0</th>\n",
       "      <th>seats_6.0</th>\n",
       "      <th>seats_7.0</th>\n",
       "      <th>seats_8.0</th>\n",
       "      <th>seats_9.0</th>\n",
       "      <th>seats_10.0</th>\n",
       "      <th>seats_14.0</th>\n",
       "      <th>seats_nan</th>\n",
       "    </tr>\n",
       "  </thead>\n",
       "  <tbody>\n",
       "    <tr>\n",
       "      <th>0</th>\n",
       "      <td>0</td>\n",
       "      <td>5.0</td>\n",
       "      <td>0.0</td>\n",
       "      <td>1.0</td>\n",
       "      <td>0.0</td>\n",
       "      <td>0.0</td>\n",
       "      <td>1.0</td>\n",
       "      <td>0.0</td>\n",
       "      <td>0.0</td>\n",
       "      <td>0.0</td>\n",
       "      <td>0.0</td>\n",
       "      <td>0.0</td>\n",
       "      <td>0.0</td>\n",
       "      <td>0.0</td>\n",
       "    </tr>\n",
       "    <tr>\n",
       "      <th>1</th>\n",
       "      <td>1</td>\n",
       "      <td>7.0</td>\n",
       "      <td>1.0</td>\n",
       "      <td>0.0</td>\n",
       "      <td>0.0</td>\n",
       "      <td>0.0</td>\n",
       "      <td>0.0</td>\n",
       "      <td>0.0</td>\n",
       "      <td>1.0</td>\n",
       "      <td>0.0</td>\n",
       "      <td>0.0</td>\n",
       "      <td>0.0</td>\n",
       "      <td>0.0</td>\n",
       "      <td>0.0</td>\n",
       "    </tr>\n",
       "    <tr>\n",
       "      <th>2</th>\n",
       "      <td>2</td>\n",
       "      <td>5.0</td>\n",
       "      <td>0.0</td>\n",
       "      <td>1.0</td>\n",
       "      <td>0.0</td>\n",
       "      <td>0.0</td>\n",
       "      <td>1.0</td>\n",
       "      <td>0.0</td>\n",
       "      <td>0.0</td>\n",
       "      <td>0.0</td>\n",
       "      <td>0.0</td>\n",
       "      <td>0.0</td>\n",
       "      <td>0.0</td>\n",
       "      <td>0.0</td>\n",
       "    </tr>\n",
       "    <tr>\n",
       "      <th>3</th>\n",
       "      <td>3</td>\n",
       "      <td>5.0</td>\n",
       "      <td>0.0</td>\n",
       "      <td>1.0</td>\n",
       "      <td>0.0</td>\n",
       "      <td>0.0</td>\n",
       "      <td>1.0</td>\n",
       "      <td>0.0</td>\n",
       "      <td>0.0</td>\n",
       "      <td>0.0</td>\n",
       "      <td>0.0</td>\n",
       "      <td>0.0</td>\n",
       "      <td>0.0</td>\n",
       "      <td>0.0</td>\n",
       "    </tr>\n",
       "    <tr>\n",
       "      <th>4</th>\n",
       "      <td>4</td>\n",
       "      <td>5.0</td>\n",
       "      <td>0.0</td>\n",
       "      <td>1.0</td>\n",
       "      <td>0.0</td>\n",
       "      <td>0.0</td>\n",
       "      <td>1.0</td>\n",
       "      <td>0.0</td>\n",
       "      <td>0.0</td>\n",
       "      <td>0.0</td>\n",
       "      <td>0.0</td>\n",
       "      <td>0.0</td>\n",
       "      <td>0.0</td>\n",
       "      <td>0.0</td>\n",
       "    </tr>\n",
       "  </tbody>\n",
       "</table>\n",
       "</div>"
      ],
      "text/plain": [
       "   Unnamed: 0  seats  Manual  Automatic  seats_2.0  seats_4.0  seats_5.0  \\\n",
       "0           0    5.0     0.0        1.0        0.0        0.0        1.0   \n",
       "1           1    7.0     1.0        0.0        0.0        0.0        0.0   \n",
       "2           2    5.0     0.0        1.0        0.0        0.0        1.0   \n",
       "3           3    5.0     0.0        1.0        0.0        0.0        1.0   \n",
       "4           4    5.0     0.0        1.0        0.0        0.0        1.0   \n",
       "\n",
       "   seats_6.0  seats_7.0  seats_8.0  seats_9.0  seats_10.0  seats_14.0  \\\n",
       "0        0.0        0.0        0.0        0.0         0.0         0.0   \n",
       "1        0.0        1.0        0.0        0.0         0.0         0.0   \n",
       "2        0.0        0.0        0.0        0.0         0.0         0.0   \n",
       "3        0.0        0.0        0.0        0.0         0.0         0.0   \n",
       "4        0.0        0.0        0.0        0.0         0.0         0.0   \n",
       "\n",
       "   seats_nan  \n",
       "0        0.0  \n",
       "1        0.0  \n",
       "2        0.0  \n",
       "3        0.0  \n",
       "4        0.0  "
      ]
     },
     "execution_count": 19,
     "metadata": {},
     "output_type": "execute_result"
    }
   ],
   "source": [
    "agsel = pd.concat([agsel, agsel_categorical], axis=1)\n",
    "agsel.head()"
   ]
  },
  {
   "cell_type": "markdown",
   "metadata": {},
   "source": [
    "menggabungkan dataset setelah encode dan sebelum encode"
   ]
  },
  {
   "cell_type": "code",
   "execution_count": 21,
   "metadata": {},
   "outputs": [],
   "source": [
    "X = agsel[['seats_6.0','seats_9.0']] \n",
    "y = agsel['Automatic']\n",
    "X_train, X_test, y_train, y_test = train_test_split(X, y, test_size=0.2, random_state=42)"
   ]
  },
  {
   "cell_type": "markdown",
   "metadata": {},
   "source": [
    "melatih x dan y"
   ]
  },
  {
   "cell_type": "code",
   "execution_count": 22,
   "metadata": {},
   "outputs": [
    {
     "data": {
      "text/html": [
       "<style>#sk-container-id-1 {color: black;}#sk-container-id-1 pre{padding: 0;}#sk-container-id-1 div.sk-toggleable {background-color: white;}#sk-container-id-1 label.sk-toggleable__label {cursor: pointer;display: block;width: 100%;margin-bottom: 0;padding: 0.3em;box-sizing: border-box;text-align: center;}#sk-container-id-1 label.sk-toggleable__label-arrow:before {content: \"▸\";float: left;margin-right: 0.25em;color: #696969;}#sk-container-id-1 label.sk-toggleable__label-arrow:hover:before {color: black;}#sk-container-id-1 div.sk-estimator:hover label.sk-toggleable__label-arrow:before {color: black;}#sk-container-id-1 div.sk-toggleable__content {max-height: 0;max-width: 0;overflow: hidden;text-align: left;background-color: #f0f8ff;}#sk-container-id-1 div.sk-toggleable__content pre {margin: 0.2em;color: black;border-radius: 0.25em;background-color: #f0f8ff;}#sk-container-id-1 input.sk-toggleable__control:checked~div.sk-toggleable__content {max-height: 200px;max-width: 100%;overflow: auto;}#sk-container-id-1 input.sk-toggleable__control:checked~label.sk-toggleable__label-arrow:before {content: \"▾\";}#sk-container-id-1 div.sk-estimator input.sk-toggleable__control:checked~label.sk-toggleable__label {background-color: #d4ebff;}#sk-container-id-1 div.sk-label input.sk-toggleable__control:checked~label.sk-toggleable__label {background-color: #d4ebff;}#sk-container-id-1 input.sk-hidden--visually {border: 0;clip: rect(1px 1px 1px 1px);clip: rect(1px, 1px, 1px, 1px);height: 1px;margin: -1px;overflow: hidden;padding: 0;position: absolute;width: 1px;}#sk-container-id-1 div.sk-estimator {font-family: monospace;background-color: #f0f8ff;border: 1px dotted black;border-radius: 0.25em;box-sizing: border-box;margin-bottom: 0.5em;}#sk-container-id-1 div.sk-estimator:hover {background-color: #d4ebff;}#sk-container-id-1 div.sk-parallel-item::after {content: \"\";width: 100%;border-bottom: 1px solid gray;flex-grow: 1;}#sk-container-id-1 div.sk-label:hover label.sk-toggleable__label {background-color: #d4ebff;}#sk-container-id-1 div.sk-serial::before {content: \"\";position: absolute;border-left: 1px solid gray;box-sizing: border-box;top: 0;bottom: 0;left: 50%;z-index: 0;}#sk-container-id-1 div.sk-serial {display: flex;flex-direction: column;align-items: center;background-color: white;padding-right: 0.2em;padding-left: 0.2em;position: relative;}#sk-container-id-1 div.sk-item {position: relative;z-index: 1;}#sk-container-id-1 div.sk-parallel {display: flex;align-items: stretch;justify-content: center;background-color: white;position: relative;}#sk-container-id-1 div.sk-item::before, #sk-container-id-1 div.sk-parallel-item::before {content: \"\";position: absolute;border-left: 1px solid gray;box-sizing: border-box;top: 0;bottom: 0;left: 50%;z-index: -1;}#sk-container-id-1 div.sk-parallel-item {display: flex;flex-direction: column;z-index: 1;position: relative;background-color: white;}#sk-container-id-1 div.sk-parallel-item:first-child::after {align-self: flex-end;width: 50%;}#sk-container-id-1 div.sk-parallel-item:last-child::after {align-self: flex-start;width: 50%;}#sk-container-id-1 div.sk-parallel-item:only-child::after {width: 0;}#sk-container-id-1 div.sk-dashed-wrapped {border: 1px dashed gray;margin: 0 0.4em 0.5em 0.4em;box-sizing: border-box;padding-bottom: 0.4em;background-color: white;}#sk-container-id-1 div.sk-label label {font-family: monospace;font-weight: bold;display: inline-block;line-height: 1.2em;}#sk-container-id-1 div.sk-label-container {text-align: center;}#sk-container-id-1 div.sk-container {/* jupyter's `normalize.less` sets `[hidden] { display: none; }` but bootstrap.min.css set `[hidden] { display: none !important; }` so we also need the `!important` here to be able to override the default hidden behavior on the sphinx rendered scikit-learn.org. See: https://github.com/scikit-learn/scikit-learn/issues/21755 */display: inline-block !important;position: relative;}#sk-container-id-1 div.sk-text-repr-fallback {display: none;}</style><div id=\"sk-container-id-1\" class=\"sk-top-container\"><div class=\"sk-text-repr-fallback\"><pre>LinearRegression()</pre><b>In a Jupyter environment, please rerun this cell to show the HTML representation or trust the notebook. <br />On GitHub, the HTML representation is unable to render, please try loading this page with nbviewer.org.</b></div><div class=\"sk-container\" hidden><div class=\"sk-item\"><div class=\"sk-estimator sk-toggleable\"><input class=\"sk-toggleable__control sk-hidden--visually\" id=\"sk-estimator-id-1\" type=\"checkbox\" checked><label for=\"sk-estimator-id-1\" class=\"sk-toggleable__label sk-toggleable__label-arrow\">LinearRegression</label><div class=\"sk-toggleable__content\"><pre>LinearRegression()</pre></div></div></div></div></div>"
      ],
      "text/plain": [
       "LinearRegression()"
      ]
     },
     "execution_count": 22,
     "metadata": {},
     "output_type": "execute_result"
    }
   ],
   "source": [
    "model = LinearRegression()\n",
    "model.fit(X_train, y_train)"
   ]
  },
  {
   "cell_type": "markdown",
   "metadata": {},
   "source": [
    "menggunakan metode regresi"
   ]
  },
  {
   "cell_type": "code",
   "execution_count": 23,
   "metadata": {},
   "outputs": [],
   "source": [
    "scaler = StandardScaler()\n",
    "X_train = scaler.fit_transform(X_train)\n",
    "X_test = scaler.transform(X_test)"
   ]
  },
  {
   "cell_type": "markdown",
   "metadata": {},
   "source": [
    "normalisasi menggunakan standar scaler"
   ]
  },
  {
   "cell_type": "code",
   "execution_count": 24,
   "metadata": {},
   "outputs": [],
   "source": [
    "model = Sequential()"
   ]
  },
  {
   "cell_type": "markdown",
   "metadata": {},
   "source": [
    "membuat model sequential"
   ]
  },
  {
   "cell_type": "code",
   "execution_count": 25,
   "metadata": {},
   "outputs": [],
   "source": [
    "model.add(layers.Dense(8, activation='relu', input_dim=X_train.shape[1]))\n",
    "model.add(layers.Dense(16, activation='relu'))\n",
    "model.add(layers.Dense(1, activation='sigmoid'))"
   ]
  },
  {
   "cell_type": "markdown",
   "metadata": {},
   "source": [
    "mengcompile model"
   ]
  },
  {
   "cell_type": "code",
   "execution_count": 26,
   "metadata": {},
   "outputs": [],
   "source": [
    "model.compile(optimizer='adam', loss = 'mse', metrics = ['accuracy'])"
   ]
  },
  {
   "cell_type": "code",
   "execution_count": 27,
   "metadata": {},
   "outputs": [
    {
     "name": "stdout",
     "output_type": "stream",
     "text": [
      "Epoch 1/25\n"
     ]
    },
    {
     "name": "stdout",
     "output_type": "stream",
     "text": [
      "873/873 [==============================] - 7s 6ms/step - loss: 0.2079 - accuracy: 0.7154 - val_loss: 0.2059 - val_accuracy: 0.7117\n",
      "Epoch 2/25\n",
      "873/873 [==============================] - 3s 4ms/step - loss: 0.2012 - accuracy: 0.7206 - val_loss: 0.2057 - val_accuracy: 0.7117\n",
      "Epoch 3/25\n",
      "873/873 [==============================] - 2s 2ms/step - loss: 0.2012 - accuracy: 0.7201 - val_loss: 0.2056 - val_accuracy: 0.7117\n",
      "Epoch 4/25\n",
      "873/873 [==============================] - 2s 2ms/step - loss: 0.2012 - accuracy: 0.7203 - val_loss: 0.2051 - val_accuracy: 0.7117\n",
      "Epoch 5/25\n",
      "873/873 [==============================] - 2s 2ms/step - loss: 0.2011 - accuracy: 0.7206 - val_loss: 0.2059 - val_accuracy: 0.7063\n",
      "Epoch 6/25\n",
      "873/873 [==============================] - 2s 2ms/step - loss: 0.2012 - accuracy: 0.7200 - val_loss: 0.2054 - val_accuracy: 0.7117\n",
      "Epoch 7/25\n",
      "873/873 [==============================] - 2s 2ms/step - loss: 0.2012 - accuracy: 0.7204 - val_loss: 0.2053 - val_accuracy: 0.7117\n",
      "Epoch 8/25\n",
      "873/873 [==============================] - 2s 2ms/step - loss: 0.2012 - accuracy: 0.7206 - val_loss: 0.2056 - val_accuracy: 0.7117\n",
      "Epoch 9/25\n",
      "873/873 [==============================] - 3s 4ms/step - loss: 0.2012 - accuracy: 0.7203 - val_loss: 0.2053 - val_accuracy: 0.7117\n",
      "Epoch 10/25\n",
      "873/873 [==============================] - 2s 2ms/step - loss: 0.2012 - accuracy: 0.7206 - val_loss: 0.2056 - val_accuracy: 0.7117\n",
      "Epoch 11/25\n",
      "873/873 [==============================] - 2s 2ms/step - loss: 0.2012 - accuracy: 0.7203 - val_loss: 0.2054 - val_accuracy: 0.7117\n",
      "Epoch 12/25\n",
      "873/873 [==============================] - 2s 2ms/step - loss: 0.2011 - accuracy: 0.7204 - val_loss: 0.2056 - val_accuracy: 0.7117\n",
      "Epoch 13/25\n",
      "873/873 [==============================] - 2s 3ms/step - loss: 0.2011 - accuracy: 0.7206 - val_loss: 0.2055 - val_accuracy: 0.7117\n",
      "Epoch 14/25\n",
      "873/873 [==============================] - 2s 2ms/step - loss: 0.2011 - accuracy: 0.7206 - val_loss: 0.2055 - val_accuracy: 0.7117\n",
      "Epoch 15/25\n",
      "873/873 [==============================] - 2s 2ms/step - loss: 0.2011 - accuracy: 0.7203 - val_loss: 0.2058 - val_accuracy: 0.7117\n",
      "Epoch 16/25\n",
      "873/873 [==============================] - 2s 2ms/step - loss: 0.2011 - accuracy: 0.7206 - val_loss: 0.2057 - val_accuracy: 0.7117\n",
      "Epoch 17/25\n",
      "873/873 [==============================] - 2s 2ms/step - loss: 0.2011 - accuracy: 0.7206 - val_loss: 0.2053 - val_accuracy: 0.7117\n",
      "Epoch 18/25\n",
      "873/873 [==============================] - 2s 2ms/step - loss: 0.2011 - accuracy: 0.7206 - val_loss: 0.2057 - val_accuracy: 0.7117\n",
      "Epoch 19/25\n",
      "873/873 [==============================] - 3s 3ms/step - loss: 0.2011 - accuracy: 0.7206 - val_loss: 0.2054 - val_accuracy: 0.7117\n",
      "Epoch 20/25\n",
      "873/873 [==============================] - 2s 2ms/step - loss: 0.2011 - accuracy: 0.7206 - val_loss: 0.2054 - val_accuracy: 0.7117\n",
      "Epoch 21/25\n",
      "873/873 [==============================] - 2s 2ms/step - loss: 0.2011 - accuracy: 0.7206 - val_loss: 0.2053 - val_accuracy: 0.7117\n",
      "Epoch 22/25\n",
      "873/873 [==============================] - 2s 2ms/step - loss: 0.2011 - accuracy: 0.7206 - val_loss: 0.2055 - val_accuracy: 0.7117\n",
      "Epoch 23/25\n",
      "873/873 [==============================] - 3s 3ms/step - loss: 0.2011 - accuracy: 0.7206 - val_loss: 0.2056 - val_accuracy: 0.7117\n",
      "Epoch 24/25\n",
      "873/873 [==============================] - 3s 3ms/step - loss: 0.2011 - accuracy: 0.7206 - val_loss: 0.2053 - val_accuracy: 0.7117\n",
      "Epoch 25/25\n",
      "873/873 [==============================] - 2s 2ms/step - loss: 0.2010 - accuracy: 0.7206 - val_loss: 0.2054 - val_accuracy: 0.7117\n"
     ]
    }
   ],
   "source": [
    "history = model.fit(X_train, y_train, epochs=25, batch_size=16, validation_data=(X_test, y_test))"
   ]
  },
  {
   "cell_type": "code",
   "execution_count": 28,
   "metadata": {},
   "outputs": [
    {
     "name": "stdout",
     "output_type": "stream",
     "text": [
      "110/110 [==============================] - 0s 2ms/step\n",
      "R-squared Score: -0.0009185493271688383\n"
     ]
    }
   ],
   "source": [
    "if isinstance(y_test.iloc[0], (int, float)):  \n",
    "    y_pred = model.predict(X_test)\n",
    "    r2 = r2_score(y_test, y_pred)\n",
    "    print(\"R-squared Score:\", r2)\n",
    "else:  \n",
    "    y_pred = model.predict(X_test)\n",
    "    y_pred = (y_pred > 0.5).astype(int) \n",
    "    accuracy = accuracy_score(y_test, y_pred)\n",
    "    print(\"Accuracy:\", accuracy)"
   ]
  },
  {
   "cell_type": "markdown",
   "metadata": {},
   "source": [
    "evaluasi dengan r2 score"
   ]
  },
  {
   "cell_type": "code",
   "execution_count": 29,
   "metadata": {},
   "outputs": [
    {
     "data": {
      "image/png": "[encoded data removed]",
      "text/plain": [
       "<Figure size 1200x400 with 2 Axes>"
      ]
     },
     "metadata": {},
     "output_type": "display_data"
    }
   ],
   "source": [
    "plt.figure(figsize=(12, 4))\n",
    "plt.subplot(1, 2, 1)\n",
    "plt.plot(history.history['accuracy'], label='Training Accuracy')\n",
    "plt.plot(history.history['val_accuracy'], label='Validation Accuracy')\n",
    "plt.legend(loc='lower right')\n",
    "plt.title('Training and Validation Accuracy')\n",
    "plt.xlabel('Epochs')\n",
    "plt.ylabel('Accuracy')\n",
    "\n",
    "plt.subplot(1, 2, 2)\n",
    "plt.plot(history.history['loss'], label='Training Loss')\n",
    "plt.plot(history.history['val_loss'], label='Validation Loss')\n",
    "plt.legend(loc='upper right')\n",
    "plt.title('Training and Validation Loss')\n",
    "plt.xlabel('Epochs')\n",
    "plt.ylabel('Loss')\n",
    "\n",
    "plt.show()"
   ]
  },
  {
   "cell_type": "markdown",
   "metadata": {},
   "source": [
    "menampilkan grafik error(MAE) dan loss"
   ]
  }
 ],
 "metadata": {
  "kernelspec": {
   "display_name": "Python 3",
   "language": "python",
   "name": "python3"
  },
  "language_info": {
   "codemirror_mode": {
    "name": "ipython",
    "version": 3
   },
   "file_extension": ".py",
   "mimetype": "text/x-python",
   "name": "python",
   "nbconvert_exporter": "python",
   "pygments_lexer": "ipython3",
   "version": "3.10.7"
  }
 },
 "nbformat": 4,
 "nbformat_minor": 2
}
